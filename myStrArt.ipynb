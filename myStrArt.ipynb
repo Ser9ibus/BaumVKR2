{
  "nbformat": 4,
  "nbformat_minor": 0,
  "metadata": {
    "colab": {
      "provenance": [],
      "authorship_tag": "ABX9TyN7gCsdAnf64wmGer48IROM",
      "include_colab_link": true
    },
    "kernelspec": {
      "name": "python3",
      "display_name": "Python 3"
    },
    "language_info": {
      "name": "python"
    }
  },
  "cells": [
    {
      "cell_type": "markdown",
      "metadata": {
        "id": "view-in-github",
        "colab_type": "text"
      },
      "source": [
        "<a href=\"https://colab.research.google.com/github/Ser9ibus/BaumVKR2/blob/main/myStrArt.ipynb\" target=\"_parent\"><img src=\"https://colab.research.google.com/assets/colab-badge.svg\" alt=\"Open In Colab\"/></a>"
      ]
    },
    {
      "cell_type": "code",
      "execution_count": 15,
      "metadata": {
        "id": "2srI21WEcpi7"
      },
      "outputs": [],
      "source": [
        "import cv2\n",
        "import numpy as np\n",
        "\n",
        "# Invert grayscale image\n",
        "def invertImage(image):\n",
        "    return (255-image)\n",
        "\n",
        "# Apply circular mask to image\n",
        "def maskImage(image, radius):\n",
        "    y, x = np.ogrid[-radius:radius + 1, -radius:radius + 1]\n",
        "    mask = x**2 + y**2 > radius**2\n",
        "    image[mask] = 0\n",
        "\n",
        "    return image\n",
        "    \n",
        "def pinCoords(radius, nPins=200, offset=0, x0=None, y0=None):\n",
        "    alpha = np.linspace(0 + offset, 2*np.pi + offset, nPins + 1)\n",
        "\n",
        "    if (x0 == None) or (y0 == None):\n",
        "        x0 = radius + 1\n",
        "        y0 = radius + 1\n",
        "\n",
        "    coords = []\n",
        "    for angle in alpha[0:-1]:\n",
        "        x = int(x0 + radius*np.cos(angle))\n",
        "        y = int(y0 + radius*np.sin(angle))\n",
        "\n",
        "        coords.append((y, x))\n",
        "    return coords\n",
        "\n",
        "def linePixels(pin0, pin1):\n",
        "    length = int(np.hypot(pin1[0] - pin0[0], pin1[1] - pin0[1]))\n",
        "\n",
        "    x = np.linspace(pin0[1], pin1[1], length)\n",
        "    y = np.linspace(pin0[0], pin1[0], length)\n",
        "\n",
        "    return (x.astype(np.int)-1, y.astype(np.int)-1)"
      ]
    },
    {
      "cell_type": "code",
      "source": [
        "imgPath = 'StrArt_t1.bmp'"
      ],
      "metadata": {
        "id": "lN-ZYHiLTC32"
      },
      "execution_count": 36,
      "outputs": []
    },
    {
      "cell_type": "code",
      "source": [
        "import os\n",
        "if os.path.exists(imgPath):\n",
        "  # Load image\n",
        "  image = cv2.imread(imgPath)\n",
        "  print(image.shape)"
      ],
      "metadata": {
        "colab": {
          "base_uri": "https://localhost:8080/"
        },
        "id": "Y9vM4zaZcybF",
        "outputId": "535d60cc-f7b0-47a9-f2d3-5490de297b2b"
      },
      "execution_count": 42,
      "outputs": [
        {
          "output_type": "stream",
          "name": "stdout",
          "text": [
            "(210, 200, 3)\n"
          ]
        }
      ]
    },
    {
      "cell_type": "code",
      "source": [
        "# Crop image\n",
        "height, width = image.shape[0:2]\n",
        "minEdge= min(height, width)\n",
        "topEdge = int((height - minEdge)/2)\n",
        "leftEdge = int((width - minEdge)/2)\n",
        "imgCropped = image[topEdge:topEdge+minEdge, leftEdge:leftEdge+minEdge]\n",
        "\n",
        "# Convert to grayscale\n",
        "imgGray = cv2.cvtColor(imgCropped, cv2.COLOR_BGR2GRAY)\n",
        "\n",
        "# Resize image\n",
        "imgRadius = 100\n",
        "imgSized = cv2.resize(imgGray, (2*imgRadius + 1, 2*imgRadius + 1)) \n",
        "print(imgSized)\n",
        "# Invert image\n",
        "imgInverted = invertImage(imgSized)\n",
        "\n",
        "# Mask image\n",
        "imgMasked = maskImage(imgInverted, imgRadius)"
      ],
      "metadata": {
        "id": "M7Ptkb5CgtRO",
        "colab": {
          "base_uri": "https://localhost:8080/"
        },
        "outputId": "4e453601-1fb9-4d91-ee72-f157cdbadcaf"
      },
      "execution_count": 44,
      "outputs": [
        {
          "output_type": "stream",
          "name": "stdout",
          "text": [
            "[[255 255 255 ... 255 255 255]\n",
            " [255 255 255 ... 255 255 255]\n",
            " [255 255 255 ... 255 255 255]\n",
            " ...\n",
            " [255 255 255 ... 255 255 255]\n",
            " [255 255 255 ... 255 255 255]\n",
            " [255 255 255 ... 255 255 255]]\n"
          ]
        }
      ]
    },
    {
      "cell_type": "code",
      "source": [
        "coords = pinCoords(imgRadius, nPins)\n",
        "height, width = imgMasked.shape[0:1]\n",
        "\n",
        "i = 0\n",
        "lines = []\n",
        "previousPins = []\n",
        "oldPin = initPin\n",
        "lineMask = np.zeros((height, width))\n",
        "\n",
        "for line in range(nLines):\n",
        "    i += 1\n",
        "    bestLine = 0\n",
        "    oldCoord = coords[oldPin]\n",
        "\n",
        "     for index in range(1, nPins):\n",
        "        pin = (oldPin + index) % nPins\n",
        "\n",
        "        coord = coords[pin]\n",
        "        xLine, yLine = linePixels(oldCoord, coord)\n",
        "\n",
        "           lineSum = np.sum(imgMasked[yLine, xLine])\n",
        "\n",
        "        if (lineSum > bestLine) and not(pin in previousPins):\n",
        "            bestLine = lineSum\n",
        "            bestPin = pin\n",
        "\n",
        "    if len(previousPins) >= minLoop:\n",
        "        previousPins.pop(1)\n",
        "    previousPins.append(bestPin)\n",
        "\n",
        "    lineMask = lineMask * 1\n",
        "    cv2.line(lineMask, oldCoord, coords[bestPin], lineWeight, lineWidth)\n",
        "    imgMasked = np.subtract(imgMasked, lineMask)\n",
        "\n",
        "    lines.append((oldPin, bestPin))\n",
        "\n",
        "     if bestPin == oldPin:\n",
        "        break\n",
        "\n",
        "    oldPin = bestPin"
      ],
      "metadata": {
        "id": "jgmfsOXEWzRQ"
      },
      "execution_count": null,
      "outputs": []
    }
  ]
}