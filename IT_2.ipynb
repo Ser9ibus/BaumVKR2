{
  "cells": [
    {
      "cell_type": "markdown",
      "metadata": {
        "id": "view-in-github",
        "colab_type": "text"
      },
      "source": [
        "<a href=\"https://colab.research.google.com/github/Ser9ibus/BaumVKR2/blob/main/IT_2.ipynb\" target=\"_parent\"><img src=\"https://colab.research.google.com/assets/colab-badge.svg\" alt=\"Open In Colab\"/></a>"
      ]
    },
    {
      "cell_type": "code",
      "execution_count": 1,
      "metadata": {
        "colab": {
          "base_uri": "https://localhost:8080/"
        },
        "id": "ON7rTEI0w6j-",
        "outputId": "933e61c5-18b7-4cca-dc29-06d045c38541"
      },
      "outputs": [
        {
          "output_type": "stream",
          "name": "stdout",
          "text": [
            "2.9.2\n"
          ]
        }
      ],
      "source": [
        "import pandas as pd\n",
        "import numpy as np\n",
        "import copy\n",
        "import seaborn as sns\n",
        "import matplotlib.pyplot as plt\n",
        "from scipy import stats\n",
        "from sklearn import preprocessing\n",
        "from sklearn.model_selection import train_test_split\n",
        "from sklearn.metrics import mean_squared_error, r2_score\n",
        "from sklearn.preprocessing import MinMaxScaler\n",
        "from sklearn.neighbors import KNeighborsRegressor\n",
        "from sklearn.linear_model import LinearRegression, LogisticRegression\n",
        "from sklearn.ensemble import RandomForestRegressor\n",
        "from sklearn.metrics import r2_score\n",
        "from sklearn.preprocessing import LabelEncoder\n",
        "from sklearn.neural_network import MLPRegressor\n",
        "import tensorflow as tf\n",
        "from tensorflow import keras\n",
        "from tensorflow.keras import layers\n",
        "from sklearn.model_selection import GridSearchCV\n",
        "from sklearn.linear_model import Ridge\n",
        "from sklearn.linear_model import Lasso\n",
        "from sklearn import metrics\n",
        "from sklearn.metrics import mean_absolute_error\n",
        "print(tf.__version__)"
      ]
    },
    {
      "cell_type": "code",
      "execution_count": 18,
      "metadata": {
        "colab": {
          "base_uri": "https://localhost:8080/",
          "height": 380
        },
        "id": "s_WtCGzYw6kJ",
        "outputId": "ec3aba8b-a6f6-4b7b-8a6a-5597baf9de8c"
      },
      "outputs": [
        {
          "output_type": "error",
          "ename": "ValueError",
          "evalue": "ignored",
          "traceback": [
            "\u001b[0;31m---------------------------------------------------------------------------\u001b[0m",
            "\u001b[0;31mValueError\u001b[0m                                Traceback (most recent call last)",
            "\u001b[0;32m<ipython-input-18-8a66ff9a279a>\u001b[0m in \u001b[0;36m<module>\u001b[0;34m\u001b[0m\n\u001b[1;32m     12\u001b[0m \u001b[0;34m\u001b[0m\u001b[0m\n\u001b[1;32m     13\u001b[0m \u001b[0murl\u001b[0m \u001b[0;34m=\u001b[0m \u001b[0;34m'https://github.com/Ser9ibus/BaumVKR2/blob/63fa8274511564c08464ca4424445a52fa6d3061/X_bp.xlsx'\u001b[0m\u001b[0;34m\u001b[0m\u001b[0;34m\u001b[0m\u001b[0m\n\u001b[0;32m---> 14\u001b[0;31m \u001b[0mxbp_dataFrame\u001b[0m \u001b[0;34m=\u001b[0m \u001b[0mpd\u001b[0m\u001b[0;34m.\u001b[0m\u001b[0mread_excel\u001b[0m\u001b[0;34m(\u001b[0m\u001b[0murl\u001b[0m\u001b[0;34m)\u001b[0m\u001b[0;34m\u001b[0m\u001b[0;34m\u001b[0m\u001b[0m\n\u001b[0m\u001b[1;32m     15\u001b[0m \u001b[0;34m\u001b[0m\u001b[0m\n\u001b[1;32m     16\u001b[0m \u001b[0;31m#daset = pd.read_csv('https://raw.githubusercontent.com/Ser9ibus/BaumVKR2/main/dataset.csv')\u001b[0m\u001b[0;34m\u001b[0m\u001b[0;34m\u001b[0m\u001b[0;34m\u001b[0m\u001b[0m\n",
            "\u001b[0;32m/usr/local/lib/python3.8/dist-packages/pandas/util/_decorators.py\u001b[0m in \u001b[0;36mwrapper\u001b[0;34m(*args, **kwargs)\u001b[0m\n\u001b[1;32m    309\u001b[0m                     \u001b[0mstacklevel\u001b[0m\u001b[0;34m=\u001b[0m\u001b[0mstacklevel\u001b[0m\u001b[0;34m,\u001b[0m\u001b[0;34m\u001b[0m\u001b[0;34m\u001b[0m\u001b[0m\n\u001b[1;32m    310\u001b[0m                 )\n\u001b[0;32m--> 311\u001b[0;31m             \u001b[0;32mreturn\u001b[0m \u001b[0mfunc\u001b[0m\u001b[0;34m(\u001b[0m\u001b[0;34m*\u001b[0m\u001b[0margs\u001b[0m\u001b[0;34m,\u001b[0m \u001b[0;34m**\u001b[0m\u001b[0mkwargs\u001b[0m\u001b[0;34m)\u001b[0m\u001b[0;34m\u001b[0m\u001b[0;34m\u001b[0m\u001b[0m\n\u001b[0m\u001b[1;32m    312\u001b[0m \u001b[0;34m\u001b[0m\u001b[0m\n\u001b[1;32m    313\u001b[0m         \u001b[0;32mreturn\u001b[0m \u001b[0mwrapper\u001b[0m\u001b[0;34m\u001b[0m\u001b[0;34m\u001b[0m\u001b[0m\n",
            "\u001b[0;32m/usr/local/lib/python3.8/dist-packages/pandas/io/excel/_base.py\u001b[0m in \u001b[0;36mread_excel\u001b[0;34m(io, sheet_name, header, names, index_col, usecols, squeeze, dtype, engine, converters, true_values, false_values, skiprows, nrows, na_values, keep_default_na, na_filter, verbose, parse_dates, date_parser, thousands, comment, skipfooter, convert_float, mangle_dupe_cols, storage_options)\u001b[0m\n\u001b[1;32m    362\u001b[0m     \u001b[0;32mif\u001b[0m \u001b[0;32mnot\u001b[0m \u001b[0misinstance\u001b[0m\u001b[0;34m(\u001b[0m\u001b[0mio\u001b[0m\u001b[0;34m,\u001b[0m \u001b[0mExcelFile\u001b[0m\u001b[0;34m)\u001b[0m\u001b[0;34m:\u001b[0m\u001b[0;34m\u001b[0m\u001b[0;34m\u001b[0m\u001b[0m\n\u001b[1;32m    363\u001b[0m         \u001b[0mshould_close\u001b[0m \u001b[0;34m=\u001b[0m \u001b[0;32mTrue\u001b[0m\u001b[0;34m\u001b[0m\u001b[0;34m\u001b[0m\u001b[0m\n\u001b[0;32m--> 364\u001b[0;31m         \u001b[0mio\u001b[0m \u001b[0;34m=\u001b[0m \u001b[0mExcelFile\u001b[0m\u001b[0;34m(\u001b[0m\u001b[0mio\u001b[0m\u001b[0;34m,\u001b[0m \u001b[0mstorage_options\u001b[0m\u001b[0;34m=\u001b[0m\u001b[0mstorage_options\u001b[0m\u001b[0;34m,\u001b[0m \u001b[0mengine\u001b[0m\u001b[0;34m=\u001b[0m\u001b[0mengine\u001b[0m\u001b[0;34m)\u001b[0m\u001b[0;34m\u001b[0m\u001b[0;34m\u001b[0m\u001b[0m\n\u001b[0m\u001b[1;32m    365\u001b[0m     \u001b[0;32melif\u001b[0m \u001b[0mengine\u001b[0m \u001b[0;32mand\u001b[0m \u001b[0mengine\u001b[0m \u001b[0;34m!=\u001b[0m \u001b[0mio\u001b[0m\u001b[0;34m.\u001b[0m\u001b[0mengine\u001b[0m\u001b[0;34m:\u001b[0m\u001b[0;34m\u001b[0m\u001b[0;34m\u001b[0m\u001b[0m\n\u001b[1;32m    366\u001b[0m         raise ValueError(\n",
            "\u001b[0;32m/usr/local/lib/python3.8/dist-packages/pandas/io/excel/_base.py\u001b[0m in \u001b[0;36m__init__\u001b[0;34m(self, path_or_buffer, engine, storage_options)\u001b[0m\n\u001b[1;32m   1193\u001b[0m                 )\n\u001b[1;32m   1194\u001b[0m                 \u001b[0;32mif\u001b[0m \u001b[0mext\u001b[0m \u001b[0;32mis\u001b[0m \u001b[0;32mNone\u001b[0m\u001b[0;34m:\u001b[0m\u001b[0;34m\u001b[0m\u001b[0;34m\u001b[0m\u001b[0m\n\u001b[0;32m-> 1195\u001b[0;31m                     raise ValueError(\n\u001b[0m\u001b[1;32m   1196\u001b[0m                         \u001b[0;34m\"Excel file format cannot be determined, you must specify \"\u001b[0m\u001b[0;34m\u001b[0m\u001b[0;34m\u001b[0m\u001b[0m\n\u001b[1;32m   1197\u001b[0m                         \u001b[0;34m\"an engine manually.\"\u001b[0m\u001b[0;34m\u001b[0m\u001b[0;34m\u001b[0m\u001b[0m\n",
            "\u001b[0;31mValueError\u001b[0m: Excel file format cannot be determined, you must specify an engine manually."
          ]
        }
      ],
      "source": [
        "import glob\n",
        "for file in glob.glob('./*.xlsx'):\n",
        "    if '~$' in file:\n",
        "        continue\n",
        "    else:\n",
        "        df = pd.read_excel(\n",
        "            file,\n",
        "            engine='openpyxl'\n",
        "        )\n",
        "\n",
        "df.head()\n",
        "\n",
        "#url = 'https://github.com/Ser9ibus/BaumVKR2/blob/63fa8274511564c08464ca4424445a52fa6d3061/X_bp.xlsx'\n",
        "#xbp_dataFrame = pd.read_excel(url)\n",
        "\n",
        "#daset = pd.read_csv('https://raw.githubusercontent.com/Ser9ibus/BaumVKR2/main/dataset.csv')\n",
        "#daset.head()\n",
        "#xnup_dataFrame = pd.read_excel('X_nup.xlsx', index_col=0, engine='openpyxl')\n",
        "#pd.DataFrame(xnup_dataFrame.columns, columns=['характиристики нашивок'])\n",
        "#pd.DataFrame(xbp_dataFrame.columns, columns=['характиристики базальтопластика'])\n",
        "#xbp_dataFrame.shape\n",
        "#xnup_dataFrame.shape\n",
        "#xbp_dataFrame.head()\n",
        "#xnup_dataFrame.head()"
      ]
    },
    {
      "cell_type": "markdown",
      "metadata": {
        "id": "jCqWyFx8w6kL"
      },
      "source": [
        "Объединяем два файла и по индексу тип объединения INNER"
      ]
    },
    {
      "cell_type": "code",
      "execution_count": null,
      "metadata": {
        "id": "Pj-I4IAaw6kS"
      },
      "outputs": [],
      "source": [
        "join_dataFrame = xbp_dataFrame.join(xnup_dataFrame, how='inner')\n",
        "join_dataFrame.shape\n",
        "join_dataFrame.head()\n",
        "pd.DataFrame(join_dataFrame.columns, columns=['характиристики композиционных материалов в join_dataFrame'])"
      ]
    },
    {
      "cell_type": "markdown",
      "metadata": {
        "id": "VJKS5Kh7w6kT"
      },
      "source": [
        "Анализ таблицы"
      ]
    },
    {
      "cell_type": "code",
      "execution_count": null,
      "metadata": {
        "id": "Ped_dLM4w6kU"
      },
      "outputs": [],
      "source": [
        "join_dataFrame.info()"
      ]
    },
    {
      "cell_type": "markdown",
      "metadata": {
        "id": "0ldSBP2nw6kX"
      },
      "source": [
        "Описательная статистика характеристик композиционных материалов"
      ]
    },
    {
      "cell_type": "code",
      "execution_count": null,
      "metadata": {
        "id": "NtDNixN-w6kY"
      },
      "outputs": [],
      "source": [
        "join_dataFrame.describe().T"
      ]
    },
    {
      "cell_type": "markdown",
      "metadata": {
        "id": "PbepQ22Hw6kb"
      },
      "source": [
        "Количество уникальных значений"
      ]
    },
    {
      "cell_type": "code",
      "execution_count": null,
      "metadata": {
        "id": "rp4p6nKjw6kf"
      },
      "outputs": [],
      "source": [
        "join_dataFrame.nunique()\n",
        "join_dataFrame.duplicated().sum()\n",
        "join_dataFrame.isna()\n",
        "join_dataFrame.isna().sum()"
      ]
    },
    {
      "cell_type": "markdown",
      "metadata": {
        "id": "i2OXf2iHw6ki"
      },
      "source": [
        "Гистограммы"
      ]
    },
    {
      "cell_type": "code",
      "execution_count": null,
      "metadata": {
        "id": "HLN1xzA3w6kj"
      },
      "outputs": [],
      "source": [
        "from matplotlib.colorbar import colorbar_factory\n",
        "def histodraw(join_dataFrame, variables, n_rows, n_cols):\n",
        "    fig=plt.figure(figsize=(15, 10))\n",
        "    for i, var_name in enumerate(variables):\n",
        "        ax=fig.add_subplot(n_rows,n_cols,i+1)\n",
        "        sns.histplot(data=join_dataFrame, x=var_name, kde=True, \n",
        "bins=30, color = 'red')\n",
        "    fig.tight_layout()\n",
        "    plt.show()\n",
        "histodraw(join_dataFrame, join_dataFrame.columns, 4, 4)"
      ]
    },
    {
      "cell_type": "markdown",
      "metadata": {
        "id": "695rh_2Iw6kk"
      },
      "source": [
        "Попарные графики рассеяния"
      ]
    },
    {
      "cell_type": "code",
      "execution_count": null,
      "metadata": {
        "id": "0uxphc62w6kl"
      },
      "outputs": [],
      "source": [
        "sns.pairplot(join_dataFrame, height=4, diag_kind='kde')"
      ]
    },
    {
      "cell_type": "markdown",
      "metadata": {
        "id": "vG1aSzoVw6kl"
      },
      "source": [
        "Диаграмма Ящик с усами до удаления выбросов"
      ]
    },
    {
      "cell_type": "code",
      "execution_count": null,
      "metadata": {
        "id": "jKAGA_OEw6km"
      },
      "outputs": [],
      "source": [
        "n = 1  # счетчик\n",
        "s = 3  # строки\n",
        "c = 5  # столбцы\n",
        "fig = plt.figure(figsize=(17, 32))\n",
        "for i in join_dataFrame.columns:\n",
        "    plt.subplot(s, c, n)\n",
        "    plt.xlabel(i)\n",
        "    sns.boxplot(y = join_dataFrame[i])\n",
        "    n = n + 1\n",
        "   \n",
        "plt.show()"
      ]
    },
    {
      "cell_type": "markdown",
      "metadata": {
        "id": "C7jhOT8yw6kn"
      },
      "source": [
        "Визуализация данных с помощью корреляционной матрицы до удаления выбросов"
      ]
    },
    {
      "cell_type": "code",
      "execution_count": null,
      "metadata": {
        "id": "m1iqCoLIw6kn"
      },
      "outputs": [],
      "source": [
        "cor_map = join_dataFrame.corr()\n",
        "fig, ax = plt.subplots(figsize=(14, 10))\n",
        "sns.heatmap(cor_map, vmin=-0.5, vmax=0.5, annot=True, \n",
        "fmt='.2f',cmap='PRGn', ax=ax, linewidths = 0.1)\n",
        "plt.show()"
      ]
    },
    {
      "cell_type": "markdown",
      "metadata": {
        "id": "xPiilUKvw6ko"
      },
      "source": [
        "Корреляции между переменными на тепловой карте визуально не выявлено"
      ]
    },
    {
      "cell_type": "markdown",
      "metadata": {
        "id": "6-2TA9pHw6kp"
      },
      "source": [
        "Сравнение двух методов удаления выбросов: 3-х сигм или межквартильных расстояний"
      ]
    },
    {
      "cell_type": "code",
      "execution_count": null,
      "metadata": {
        "id": "SgY2HNKgw6kq"
      },
      "outputs": [],
      "source": [
        "sgm = 0\n",
        "iqd= 0\n",
        "for column in join_dataFrame:\n",
        "    d = join_dataFrame.loc[:, [column]]\n",
        "    # методом 3-х сигм\n",
        "    zscore = (join_dataFrame[column] - join_dataFrame[column].mean())\n",
        "/ join_dataFrame[column].std()\n",
        "    d['3s'] = zscore.abs() > 3\n",
        "    sgm += d['3s'].sum()\n",
        "    # методом межквартильных расстояний\n",
        "    q1 = np.quantile(join_dataFrame[column], 0.25)\n",
        "    q3 = np.quantile(join_dataFrame[column], 0.75)\n",
        "    iqr = q3 - q1\n",
        "    lower = q1 - 1.5 * iqr\n",
        "    upper = q3 + 1.5 * iqr\n",
        "    d['iq'] = (join_dataFrame[column] <= lower) | \n",
        "(join_dataFrame[column] >= upper)\n",
        "    iqd+= d['iq'].sum()\n",
        "print( sgm,'-- выброс методом 3-х сигм',)\n",
        "print( iqd,'-- выброс методом межквартильных расстояний',)"
      ]
    },
    {
      "cell_type": "code",
      "execution_count": null,
      "metadata": {
        "id": "eZ7rBh5vw6kr"
      },
      "outputs": [],
      "source": [
        "Распределение выбросов по характеристикам"
      ]
    },
    {
      "cell_type": "code",
      "execution_count": null,
      "metadata": {
        "id": "Jb3rAtZxw6kr"
      },
      "outputs": [],
      "source": [
        "temp_dataFrame = join_dataFrame.copy()\n",
        "for i in join_dataFrame.columns:\n",
        "    print(f\"_______________________________________\")\n",
        "    temp_dataFrame[i] = abs((join_dataFrame[i] - \n",
        "join_dataFrame[i].mean()) / join_dataFrame[i].std())\n",
        "    print(f\"{sum(temp_dataFrame[i] > 3)} -> выбросов в признаке: '{i}'\")\n",
        "print(f' Всего - {sum(sum(temp_dataFrame.values > 3))} выброса')"
      ]
    },
    {
      "cell_type": "markdown",
      "metadata": {
        "id": "tALb88P2w6ks"
      },
      "source": [
        "\"Угол нашивки\" закодируем с помощью LabelEncoder "
      ]
    },
    {
      "cell_type": "code",
      "execution_count": null,
      "metadata": {
        "id": "Uc3Dsms3w6kt"
      },
      "outputs": [],
      "source": [
        "le = LabelEncoder()\n",
        "join_dataFrame['Угол нашивки, град'] = \n",
        "le.fit_transform(join_dataFrame['Угол нашивки, град'])"
      ]
    },
    {
      "cell_type": "markdown",
      "metadata": {
        "id": "9kFyv2rww6kt"
      },
      "source": [
        "Удаление выбросов"
      ]
    },
    {
      "cell_type": "code",
      "execution_count": null,
      "metadata": {
        "id": "ouJw_6Vxw6ku"
      },
      "outputs": [],
      "source": [
        "join_dataFrame_drop = join_dataFrame[(np.abs(stats.zscore(join_dataFrame)) <= 3).all(axis=1)]\n",
        "join_dataFrame_drop"
      ]
    },
    {
      "cell_type": "markdown",
      "metadata": {
        "id": "fnqp8Ps3w6ku"
      },
      "source": [
        "\"Ящик с усами\" после удаления выбросов"
      ]
    },
    {
      "cell_type": "code",
      "execution_count": null,
      "metadata": {
        "id": "ZtKBlPRDw6kv",
        "outputId": "fda6e57a-8b3d-4f0c-842c-0ba3a736d4c9"
      },
      "outputs": [
        {
          "ename": "NameError",
          "evalue": "name 'join_dataFrame_drop' is not defined",
          "output_type": "error",
          "traceback": [
            "\u001b[1;31m---------------------------------------------------------------------------\u001b[0m",
            "\u001b[1;31mNameError\u001b[0m                                 Traceback (most recent call last)",
            "\u001b[1;32m<ipython-input-2-4d68f23845ba>\u001b[0m in \u001b[0;36m<module>\u001b[1;34m\u001b[0m\n\u001b[0;32m      3\u001b[0m \u001b[0mc\u001b[0m \u001b[1;33m=\u001b[0m \u001b[1;36m5\u001b[0m  \u001b[1;31m# столбцы\u001b[0m\u001b[1;33m\u001b[0m\u001b[1;33m\u001b[0m\u001b[0m\n\u001b[0;32m      4\u001b[0m \u001b[0mfig\u001b[0m \u001b[1;33m=\u001b[0m \u001b[0mplt\u001b[0m\u001b[1;33m.\u001b[0m\u001b[0mfigure\u001b[0m\u001b[1;33m(\u001b[0m\u001b[0mfigsize\u001b[0m\u001b[1;33m=\u001b[0m\u001b[1;33m(\u001b[0m\u001b[1;36m17\u001b[0m\u001b[1;33m,\u001b[0m \u001b[1;36m32\u001b[0m\u001b[1;33m)\u001b[0m\u001b[1;33m)\u001b[0m\u001b[1;33m\u001b[0m\u001b[1;33m\u001b[0m\u001b[0m\n\u001b[1;32m----> 5\u001b[1;33m \u001b[1;32mfor\u001b[0m \u001b[0mi\u001b[0m \u001b[1;32min\u001b[0m \u001b[0mjoin_dataFrame_drop\u001b[0m\u001b[1;33m.\u001b[0m\u001b[0mcolumns\u001b[0m\u001b[1;33m:\u001b[0m\u001b[1;33m\u001b[0m\u001b[1;33m\u001b[0m\u001b[0m\n\u001b[0m\u001b[0;32m      6\u001b[0m     \u001b[0mplt\u001b[0m\u001b[1;33m.\u001b[0m\u001b[0msubplot\u001b[0m\u001b[1;33m(\u001b[0m\u001b[0ms\u001b[0m\u001b[1;33m,\u001b[0m \u001b[0mc\u001b[0m\u001b[1;33m,\u001b[0m \u001b[0mn\u001b[0m\u001b[1;33m)\u001b[0m\u001b[1;33m\u001b[0m\u001b[1;33m\u001b[0m\u001b[0m\n\u001b[0;32m      7\u001b[0m     \u001b[0mplt\u001b[0m\u001b[1;33m.\u001b[0m\u001b[0mxlabel\u001b[0m\u001b[1;33m(\u001b[0m\u001b[0mi\u001b[0m\u001b[1;33m)\u001b[0m\u001b[1;33m\u001b[0m\u001b[1;33m\u001b[0m\u001b[0m\n",
            "\u001b[1;31mNameError\u001b[0m: name 'join_dataFrame_drop' is not defined"
          ]
        },
        {
          "data": {
            "text/plain": [
              "<Figure size 1224x2304 with 0 Axes>"
            ]
          },
          "metadata": {},
          "output_type": "display_data"
        }
      ],
      "source": [
        "n = 1  # счетчик\n",
        "s = 3  # строки\n",
        "c = 5  # столбцы\n",
        "fig = plt.figure(figsize=(17, 32))\n",
        "for i in join_dataFrame_drop.columns:\n",
        "    plt.subplot(s, c, n)\n",
        "    plt.xlabel(i)\n",
        "    sns.boxplot(y = join_dataFrame_drop[i])\n",
        "    n = n + 1\n",
        "   \n",
        "plt.show()"
      ]
    },
    {
      "cell_type": "code",
      "execution_count": null,
      "metadata": {
        "id": "J8561RmBw6kw"
      },
      "outputs": [],
      "source": [
        "Корреляционная матрицы после удаления выбросов"
      ]
    },
    {
      "cell_type": "code",
      "execution_count": null,
      "metadata": {
        "id": "Et9pR9pFw6kw"
      },
      "outputs": [],
      "source": [
        "cor_map = join_dataFrame_drop.corr()\n",
        "fig, ax = plt.subplots(figsize=(14, 10))\n",
        "sns.heatmap(cor_map, vmin=-0.5, vmax=0.5, annot=True, \n",
        "fmt='.2f',cmap='PRGn', ax=ax, linewidths = 0.1)\n",
        "plt.xticks(rotation=45, ha='right')\n",
        "plt.show()"
      ]
    },
    {
      "cell_type": "markdown",
      "metadata": {
        "id": "wvKt1_-Ew6kx"
      },
      "source": [
        "Корреляции между переменными на тепловой карте визуально не\n",
        "выявлена"
      ]
    },
    {
      "cell_type": "markdown",
      "metadata": {
        "id": "tSgVf-l3w6ky"
      },
      "source": [
        "Оценка плотности ядра"
      ]
    },
    {
      "cell_type": "code",
      "execution_count": null,
      "metadata": {
        "id": "oJqsefDUw6ky"
      },
      "outputs": [],
      "source": [
        "fig, ax = plt.subplots(figsize=(15, 12))\n",
        "join_dataFrame_drop.plot(kind='kde', ax=ax)\n"
      ]
    },
    {
      "cell_type": "markdown",
      "metadata": {
        "id": "6BQSyET_w6kz"
      },
      "source": [
        "Видно, что данные находятся в разных диапазонах. Оценка плотности ядра показывает, что данные нужно нормализовать"
      ]
    },
    {
      "cell_type": "code",
      "execution_count": null,
      "metadata": {
        "id": "J89-I6scw6k0"
      },
      "outputs": [],
      "source": [
        "scaler = preprocessing.MinMaxScaler()\n",
        "names = join_dataFrame_drop.columns\n",
        "d = scaler.fit_transform(join_dataFrame_drop)\n",
        "join_dataFrame_drop_norm = pd.DataFrame(d, columns=names).round(2)\n",
        "join_dataFrame_drop_norm.head()\n",
        "     "
      ]
    },
    {
      "cell_type": "markdown",
      "metadata": {
        "id": "VgLpbvmFw6k1"
      },
      "source": [
        "Описательная статистика характеристик после нормализации"
      ]
    },
    {
      "cell_type": "code",
      "execution_count": null,
      "metadata": {
        "id": "5YJ2k4kHw6k1"
      },
      "outputs": [],
      "source": [
        "join_dataFrame_drop_norm.describe().T.round(2)\n",
        "join_dataFrame_drop_norm.info()"
      ]
    },
    {
      "cell_type": "markdown",
      "metadata": {
        "id": "CNix_L79w6k2"
      },
      "source": [
        "Оценим ящик с усами после нормализации"
      ]
    },
    {
      "cell_type": "code",
      "execution_count": null,
      "metadata": {
        "id": "pLYVtL9Yw6k2"
      },
      "outputs": [],
      "source": [
        "min_max_scaler = preprocessing.MinMaxScaler()\n",
        "df_join_clean_norm = \n",
        "pd.DataFrame(min_max_scaler.fit_transform(join_dataFrame_drop),\n",
        "    columns = join_dataFrame_drop.columns,\n",
        "    index = join_dataFrame_drop.index)\n",
        "sns.set(rc={'figure.figsize':(13,10)})\n",
        "ax = sns.boxplot(data=join_dataFrame_drop_norm)\n",
        "ax.set_xticklabels(ax.get_xticklabels(),rotation=90)"
      ]
    },
    {
      "cell_type": "markdown",
      "metadata": {
        "id": "ukJiVcgrw6k3"
      },
      "source": [
        "Гистограмма после нормализации"
      ]
    },
    {
      "cell_type": "code",
      "execution_count": null,
      "metadata": {
        "id": "zJoubu-9w6k3"
      },
      "outputs": [],
      "source": [
        "from matplotlib.colorbar import colorbar_factory\n",
        "def histodraw(join_dataFrame_drop_norm, variables, n_rows, n_cols):\n",
        "    fig=plt.figure(figsize=(15, 10))\n",
        "    for i, var_name in enumerate(variables):\n",
        "        ax=fig.add_subplot(n_rows,n_cols,i+1)\n",
        "        sns.histplot(data=join_dataFrame_drop_norm, x=var_name, \n",
        "kde=True, bins=30, color = 'red')\n",
        "    fig.tight_layout()\n",
        "    plt.show()\n",
        "histodraw(join_dataFrame_drop_norm, join_dataFrame_drop.columns, 4, 4)"
      ]
    },
    {
      "cell_type": "markdown",
      "metadata": {
        "id": "ugSwxGYMw6k4"
      },
      "source": [
        "Корреляционная матрица после нормализации данных"
      ]
    },
    {
      "cell_type": "code",
      "execution_count": null,
      "metadata": {
        "id": "n7v1h2Ykw6k4"
      },
      "outputs": [],
      "source": [
        "cor_map = join_dataFrame_drop_norm.corr()\n",
        "fig, ax = plt.subplots(figsize=(14, 10))\n",
        "sns.heatmap(cor_map, vmin=-0.5, vmax=0.5,  annot=True, square=True, \n",
        "fmt='.2f',cmap='PRGn', ax=ax, linewidths = 0.1)\n",
        "plt.xticks(rotation=45, ha='right')\n",
        "plt.show()"
      ]
    },
    {
      "cell_type": "markdown",
      "metadata": {
        "id": "lFFiB4udw6k5"
      },
      "source": [
        "Модели для прогноза модуля упругости при растяжении и прочности при растяжении"
      ]
    },
    {
      "cell_type": "markdown",
      "metadata": {
        "id": "yaSUNcbuw6k6"
      },
      "source": [
        "Входы и выходы для моделей"
      ]
    },
    {
      "cell_type": "code",
      "execution_count": null,
      "metadata": {
        "id": "PVhNtc8ew6k6"
      },
      "outputs": [],
      "source": [
        "output_df_elastic = join_dataFrame_drop_norm['Модуль упругости при растяжении, ГПа']\n",
        "output_df_strength = join_dataFrame_drop_norm['Прочность при растяжении, МПа']\n",
        "input_df_elastic = join_dataFrame_drop_norm.loc[:, join_dataFrame_drop_norm.columns != 'Модуль упругости при растяжении, ГПа']\n",
        "input_df_strength = join_dataFrame_drop_norm.loc[:, join_dataFrame_drop_norm.columns != 'Прочность при растяжении, МПа']"
      ]
    },
    {
      "cell_type": "markdown",
      "metadata": {
        "id": "ifoI9zutw6k7"
      },
      "source": [
        "Разделяем датасет на обучающую и тестовую выборки"
      ]
    },
    {
      "cell_type": "code",
      "execution_count": null,
      "metadata": {
        "id": "wiWtIyZBw6k7"
      },
      "outputs": [],
      "source": [
        "X_input_elastic, X_output_elastic,  y_input_elastic, y_output_elastic = train_test_split(input_df_elastic, output_df_elastic, test_size=0.3, random_state=42)\n",
        "X_input_strength, X_output_strength, y_input_strength, y_output_strength = train_test_split(input_df_strength, output_df_strength, test_size=0.3, random_state=42)\n",
        "join_dataFrame_drop_norm.shape[0] - X_input_elastic.shape[0] - X_output_elastic.shape[0]\n",
        "join_dataFrame_drop_norm.shape[0] - X_input_strength.shape[0] - X_output_strength.shape[0]"
      ]
    },
    {
      "cell_type": "markdown",
      "metadata": {
        "id": "01UMpC0lw6k8"
      },
      "source": [
        "   Итоговый датасет ошибок"
      ]
    },
    {
      "cell_type": "code",
      "execution_count": null,
      "metadata": {
        "id": "j8kN4Zy9w6k8"
      },
      "outputs": [],
      "source": [
        "errors_df = pd.DataFrame(columns=['target_var','model_name','MSE','R2'])"
      ]
    },
    {
      "cell_type": "markdown",
      "metadata": {
        "id": "n_enxjHxw6k9"
      },
      "source": [
        "Определение функции для визуализации"
      ]
    },
    {
      "cell_type": "code",
      "execution_count": null,
      "metadata": {
        "id": "sEaHYf3pw6k9"
      },
      "outputs": [],
      "source": [
        "def actual_and_predicted_plot(orig, predict, var, model_name):    \n",
        "    plt.figure(figsize=(17,5))\n",
        "    plt.title(f'Тестовые и прогнозные значения: {model_name}')\n",
        "    plt.plot(orig, label='Тест')\n",
        "    plt.plot(predict, label='Прогноз')\n",
        "    plt.legend(loc='best')\n",
        "    plt.ylabel(var)\n",
        "    plt.xlabel('Количество наблюдений')\n",
        "    plt.show()"
      ]
    },
    {
      "cell_type": "markdown",
      "metadata": {
        "id": "lbh4ckR-w6k-"
      },
      "source": [
        "Линейная регрессия"
      ]
    },
    {
      "cell_type": "code",
      "execution_count": null,
      "metadata": {
        "id": "_2qdzjA7w6k-"
      },
      "outputs": [],
      "source": [
        "# модуль упругости при растяжении\n",
        "linear_model_elastic = LinearRegression()\n",
        "linear_model_elastic.fit(X_input_elastic,  y_input_elastic)\n",
        "prediction_y_test_linear_1 = linear_model_elastic.predict(X_output_elastic)\n",
        "MSE_elastic = mean_squared_error(y_output_elastic, prediction_y_test_linear_1)\n",
        "R2_elastic = r2_score(y_output_elastic, prediction_y_test_linear_1)\n",
        "# прочность при растяжении\n",
        "linear_model_pro = LinearRegression()\n",
        "linear_model_pro.fit(X_input_strength, y_input_strength)\n",
        "prediction_y_test_linear_2 = linear_model_pro.predict(X_output_strength)\n",
        "MSE_strength = mean_squared_error(y_output_strength, prediction_y_test_linear_2)\n",
        "R2_strength = r2_score(y_output_strength, prediction_y_test_linear_2)\n",
        "linear_errors = pd.DataFrame({'model_name':'Linear Regression',\\\n",
        "                                'target_var':['Модуль упругости при растяжении, ГПа', 'Прочность при растяжении, МПа'],\\\n",
        "                               'MSE':[MSE_elastic, MSE_strength],\\\n",
        "                               'R2':[R2_elastic, R2_strength]})\n",
        "errors_df = pd.concat([errors_df, linear_errors], ignore_index=True)\n",
        "errors_df"
      ]
    },
    {
      "cell_type": "markdown",
      "metadata": {
        "id": "yhwuwpbew6k_"
      },
      "source": [
        "Визуализация"
      ]
    },
    {
      "cell_type": "code",
      "execution_count": null,
      "metadata": {
        "id": "wG_tNmi4w6lA"
      },
      "outputs": [],
      "source": [
        "actual_and_predicted_plot(y_output_elastic.values, \n",
        "prediction_y_test_linear_1, 'Модуль упругости при растяжении, ГПа', 'Linear Regression')\n",
        "actual_and_predicted_plot(y_output_strength.values, prediction_y_test_linear_2, 'Прочность при растяжении, МПа', 'Linear Regression')"
      ]
    },
    {
      "cell_type": "markdown",
      "metadata": {
        "id": "3kTlAHJhw6lA"
      },
      "source": [
        "Регрессия k-ближайших соседей"
      ]
    },
    {
      "cell_type": "code",
      "execution_count": null,
      "metadata": {
        "id": "7HgL9Xlfw6lB"
      },
      "outputs": [],
      "source": [
        "knr_model = KNeighborsRegressor()\n",
        "neigh_params = {'n_neighbors' : range(1, 101, 1), \n",
        "          'weights' : ['uniform', 'distance'],\n",
        "          'algorithm' : ['auto', 'ball_tree', 'kd_tree', 'brute']\n",
        "          }\n",
        "GSCV_neigh_1 = GridSearchCV(knr_model, neigh_params, n_jobs=-1, cv=10)\n",
        "GSCV_neigh_1.fit(X_input_elastic,  y_input_elastic)\n",
        "# GSCV_neigh_1.best_params_\n",
        "neigh_1 = GSCV_neigh_1.best_estimator_\n",
        "MSE_upr = mean_squared_error(y_output_elastic, neigh_1.predict(X_output_elastic))\n",
        "R2_upr = r2_score(y_output_elastic, neigh_1.predict(X_output_elastic))\n",
        "GSCV_neigh_2 = GridSearchCV(knr_model, neigh_params, n_jobs=-1, cv=10)\n",
        "GSCV_neigh_2.fit(X_input_strength, y_input_strength)\n",
        "# GSCV_neigh_2.best_params_\n",
        "neigh_2 = GSCV_neigh_2.best_estimator_\n",
        "MSE_pro = mean_squared_error(y_output_strength, neigh_2.predict(X_output_strength))\n",
        "R2_pro = r2_score(y_output_strength, neigh_2.predict(X_output_strength))\n",
        "neigh_errors = pd.DataFrame({'model_name':'KNeighborsRegressor',\\\n",
        "                                'target_var':['Модуль упругости при растяжении, ГПа', 'Прочность при растяжении, МПа'],\\\n",
        "                               'MSE':[MSE_upr, MSE_pro],\\\n",
        "                               'R2':[R2_upr, R2_pro]})\n",
        "errors_df = pd.concat([errors_df, neigh_errors], ignore_index=True)\n",
        "errors_df"
      ]
    },
    {
      "cell_type": "markdown",
      "metadata": {
        "id": "pLpaAK41w6lB"
      },
      "source": [
        "Визуализация"
      ]
    },
    {
      "cell_type": "code",
      "execution_count": null,
      "metadata": {
        "id": "CaejPC2Aw6lC"
      },
      "outputs": [],
      "source": [
        "actual_and_predicted_plot(y_output_elastic.values, \n",
        "neigh_1.predict(X_output_elastic), 'Модуль упругости при растяжении, ГПа', 'KNeighbors Regressor')\n",
        "actual_and_predicted_plot(y_output_strength.values, \n",
        "neigh_2.predict(X_output_strength), 'Прочность при растяжении, МПа', 'KNeighbors Regressor')"
      ]
    },
    {
      "cell_type": "markdown",
      "metadata": {
        "id": "8YjJSebPw6lD"
      },
      "source": [
        "Случайный лес"
      ]
    },
    {
      "cell_type": "code",
      "execution_count": null,
      "metadata": {
        "id": "_OcfjftDw6lD"
      },
      "outputs": [],
      "source": [
        "rfr_model = RandomForestRegressor(random_state=14)\n",
        "rfr_model_params = {\n",
        "    'n_estimators' : range(1, 100, 5),\n",
        "    'max_features': ['auto', 'sqrt', 'log2'],\n",
        "    'max_depth' : range(1, 5, 1),\n",
        "    'criterion':['mse']\n",
        "}\n",
        "GSCV_rfr_model_upr = GridSearchCV(rfr_model, rfr_model_params, cv=5, verbose=2)\n",
        "GSCV_rfr_model_upr.fit(X_input_elastic,  y_input_elastic)\n",
        "# GSCV_rfr_model_upr.best_params_\n",
        "rfr_model_upr = GSCV_rfr_model_upr.best_estimator_\n",
        "MSE_upr = mean_squared_error(y_output_elastic, rfr_model_upr.predict(X_output_elastic))\n",
        "R2_upr = r2_score(y_output_elastic, rfr_model_upr.predict(X_output_elastic))\n",
        "GSCV_rfr_model_pro = GridSearchCV(rfr_model, rfr_model_params, cv=5, verbose=2)\n",
        "GSCV_rfr_model_pro.fit(X_input_strength, y_input_strength)\n",
        "# GSCV_rfr_model_pro.best_params_\n",
        "rfr_model_pro = GSCV_rfr_model_upr.best_estimator_\n",
        "MSE_pro = mean_squared_error(y_output_strength, rfr_model_upr.predict(X_output_strength))\n",
        "R2_pro = r2_score(y_output_strength, rfr_model_upr.predict(X_output_strength))\n",
        "rf_errors = pd.DataFrame({'model_name':'RandomForestRegressor',\\\n",
        "                                'target_var':['Модуль упругости при растяжении, ГПа', 'Прочность при растяжении, МПа'],\\\n",
        "                               'MSE':[MSE_upr, MSE_pro],\\\n",
        "                               'R2':[R2_upr, R2_pro]})\n",
        "errors_df = pd.concat([errors_df, rf_errors], ignore_index=True)\n",
        "errors_df                                  "
      ]
    },
    {
      "cell_type": "code",
      "execution_count": null,
      "metadata": {
        "id": "vedaigG2w6lE"
      },
      "outputs": [],
      "source": [
        "Визуализация"
      ]
    },
    {
      "cell_type": "code",
      "execution_count": null,
      "metadata": {
        "id": "Dml1t7iFw6lE"
      },
      "outputs": [],
      "source": [
        "actual_and_predicted_plot(y_output_elastic.values, rfr_model_upr.predict(X_output_elastic), 'Модуль упругости при растяжении, ГПа', 'RandomForestRegressor')\n",
        "actual_and_predicted_plot(y_output_strength.values, rfr_model_pro.predict(X_output_strength), 'Прочность при растяжении, МПа', 'RandomForestRegressor')"
      ]
    },
    {
      "cell_type": "code",
      "execution_count": null,
      "metadata": {
        "id": "fL85Bbuuw6lF"
      },
      "outputs": [],
      "source": [
        "Многослойный перцептрон"
      ]
    },
    {
      "cell_type": "code",
      "execution_count": null,
      "metadata": {
        "id": "5CGXY2a2w6lF"
      },
      "outputs": [],
      "source": [
        "mlpr_model = MLPRegressor(random_state=14)\n",
        "mlpr_model_params = {\n",
        "    'hidden_layer_sizes' : [(100, 100, 50, 25, 12), (144, 144, 72, 36,\n",
        "12, 1), (12, 12, 12, 12, 12),\n",
        "                            (144, 144, 144, 72, 72, 36, 36), ()],\n",
        "    'activation' : ['identity', 'logistic', 'tanh', 'relu'],\n",
        "    'solver' : ['sgd', 'adam'],\n",
        "    'max_iter' : [100],\n",
        "    'learning_rate' : ['constant', 'adaptive', 'invscaling']\n",
        "}\n",
        "GSCV_mlpr_model_upr = GridSearchCV(mlpr_model, mlpr_model_params, \n",
        "n_jobs=-1, cv=10)\n",
        "GSCV_mlpr_model_upr.fit(X_input_elastic,  y_input_elastic)\n",
        "# GSCV_mlpr_model_upr.best_params_\n",
        "mlpr_model_upr = GSCV_mlpr_model_upr.best_estimator_\n",
        "MSE_upr = mean_squared_error(y_output_elastic, mlpr_model_upr.predict(X_output_elastic))\n",
        "R2_upr = r2_score(y_output_elastic, mlpr_model_upr.predict(X_output_elastic))\n",
        "GSCV_mlpr_model_pro = GridSearchCV(mlpr_model, mlpr_model_params, n_jobs=-1, cv=10)\n",
        "GSCV_mlpr_model_pro.fit(X_input_strength, y_input_strength)\n",
        "# GSCV_mlpr_model_pro.best_params_\n",
        "mlpr_model_pro = GSCV_mlpr_model_pro.best_estimator_\n",
        "MSE_pro = mean_squared_error(y_output_strength, mlpr_model_pro.predict(X_output_strength))\n",
        "R2_pro = r2_score(y_output_strength, mlpr_model_pro.predict(X_output_strength))\n",
        "mlpr_model_errors = pd.DataFrame({'model_name':'MLPRegressor',\\\n",
        "                                'target_var':['Модуль упругости при растяжении, ГПа', 'Прочность при растяжении, МПа'],\\\n",
        "                               'MSE':[MSE_upr, MSE_pro],\\\n",
        "                               'R2':[R2_upr, R2_pro]})\n",
        "errors_df = pd.concat([errors_df, mlpr_model_errors], \n",
        "ignore_index=True)\n",
        "errors_df"
      ]
    },
    {
      "cell_type": "code",
      "execution_count": null,
      "metadata": {
        "id": "qvhNKs1fw6lG"
      },
      "outputs": [],
      "source": [
        "Параметры модели по сетке"
      ]
    },
    {
      "cell_type": "code",
      "execution_count": null,
      "metadata": {
        "id": "npezLEybw6lH"
      },
      "outputs": [],
      "source": [
        "GSCV_mlpr_model_upr.best_params_\n",
        "GSCV_mlpr_model_pro.best_params_\n",
        "mlpr_model_upr.predict(X_output_elastic)"
      ]
    },
    {
      "cell_type": "code",
      "execution_count": null,
      "metadata": {
        "id": "VwBKJxzuw6lH"
      },
      "outputs": [],
      "source": [
        "Визуализация"
      ]
    },
    {
      "cell_type": "code",
      "execution_count": null,
      "metadata": {
        "id": "sYt346aEw6lH"
      },
      "outputs": [],
      "source": [
        "actual_and_predicted_plot(y_output_elastic.values, \n",
        "mlpr_model_upr.predict(X_output_elastic), 'Модуль упругости при растяжении, ГПа', 'MLPRegressor')\n",
        "actual_and_predicted_plot(y_output_strength.values, \n",
        "mlpr_model_pro.predict(X_output_strength), 'Прочность при растяжении, МПа', 'MLPRegressor')"
      ]
    },
    {
      "cell_type": "code",
      "execution_count": null,
      "metadata": {
        "id": "cWmPHYJ2w6lI"
      },
      "outputs": [],
      "source": [
        "  Лассо регрессия"
      ]
    },
    {
      "cell_type": "code",
      "execution_count": null,
      "metadata": {
        "id": "JemjQsM3w6lJ"
      },
      "outputs": [],
      "source": [
        "lasso_model = Lasso(random_state=14)\n",
        "lasso_model_params = {'alpha': np.linspace(0, 1, 100)}\n",
        "GSCV_lasso_model_upr = GridSearchCV(lasso_model, lasso_model_params, cv=10, verbose=2)\n",
        "GSCV_lasso_model_upr.fit(X_input_elastic,  y_input_elastic)\n",
        "# GSCV_lasso_model_upr.best_params_ \n",
        "lasso_model_upr = GSCV_lasso_model_upr.best_estimator_\n",
        "MSE_upr = mean_squared_error(y_output_elastic, lasso_model_upr.predict(X_output_elastic))\n",
        "R2_upr = r2_score(y_output_elastic, lasso_model_upr.predict(X_output_elastic))\n",
        "GSCV_lasso_model_pro = GridSearchCV(lasso_model, lasso_model_params, cv=10, verbose=2)\n",
        "GSCV_lasso_model_pro.fit(X_input_strength, y_input_strength)\n",
        "# GSCV_lasso_model_pro.best_params_ \n",
        "lasso_model_pro = GSCV_lasso_model_pro.best_estimator_\n",
        "MSE_pro = mean_squared_error(y_output_strength, lasso_model_pro.predict(X_output_strength))\n",
        "R2_pro = r2_score(y_output_strength, lasso_model_pro.predict(X_output_strength))\n",
        "lasso_model_errors = pd.DataFrame({'model_name':'lasso_model',\\\n",
        "                                'target_var':['Модуль упругости при растяжении, ГПа', 'Прочность при растяжении, МПа'],\\\n",
        "                               'MSE':[MSE_upr, MSE_pro],\\\n",
        "                               'R2':[R2_upr, R2_pro]})\n",
        "errors_df = pd.concat([errors_df, lasso_model_errors], \n",
        "ignore_index=True)\n",
        "errors_df"
      ]
    },
    {
      "cell_type": "code",
      "execution_count": null,
      "metadata": {
        "id": "zyrN9LPlw6lJ"
      },
      "outputs": [],
      "source": [
        "Визуализация"
      ]
    },
    {
      "cell_type": "code",
      "execution_count": null,
      "metadata": {
        "id": "3Z-UggOhw6lK"
      },
      "outputs": [],
      "source": [
        "actual_and_predicted_plot(y_output_elastic.values, \n",
        "lasso_model_upr.predict(X_output_elastic), 'Модуль упругости при \n",
        "растяжении, ГПа', 'lasso_model')\n",
        "actual_and_predicted_plot(y_output_strength.values, \n",
        "lasso_model_pro.predict(X_output_strength), 'Прочность при растяжении,\n",
        "МПа', 'lasso_model')"
      ]
    },
    {
      "cell_type": "code",
      "execution_count": null,
      "metadata": {
        "id": "JdoqISV5w6lK"
      },
      "outputs": [],
      "source": [
        "Датасет с ошибками"
      ]
    },
    {
      "cell_type": "code",
      "execution_count": null,
      "metadata": {
        "id": "hqwVbJIuw6lL"
      },
      "outputs": [],
      "source": [
        "errors_df"
      ]
    },
    {
      "cell_type": "code",
      "execution_count": null,
      "metadata": {
        "id": "C-SwkTkIw6lL"
      },
      "outputs": [],
      "source": [
        "Рекомендательная нейросеть для соотношения матрица-наполнитель"
      ]
    },
    {
      "cell_type": "code",
      "execution_count": null,
      "metadata": {
        "id": "rEH8pNvew6lM"
      },
      "outputs": [],
      "source": [
        "df_bp = pd.read_excel('/content/drive/MyDrive/X_bp.xlsx')\n",
        "df_nup = pd.read_excel('/content/drive/MyDrive/X_nup.xlsx')\n",
        "df = df_bp.merge(df_nup, on='Unnamed: 0', how='inner')\n",
        "df.drop(columns=['Unnamed: 0'], inplace=True)\n",
        "Q1 = df.quantile(0.25)\n",
        "Q3 = df.quantile(0.75)\n",
        "IQR = Q3-Q1\n",
        "df_drop = df[~((df<(Q1-1.5*IQR))|(df>(Q3+1.5*IQR))).any(axis=1)]"
      ]
    },
    {
      "cell_type": "code",
      "execution_count": null,
      "metadata": {
        "id": "KQal4ONQw6lM"
      },
      "outputs": [],
      "source": [
        "Сформируем входы и выходы для моделей, разделим обучающую и тестовую"
      ]
    },
    {
      "cell_type": "code",
      "execution_count": null,
      "metadata": {
        "id": "8i4E2EFvw6lN"
      },
      "outputs": [],
      "source": [
        "target_var = df_drop['Соотношение матрица-наполнитель']\n",
        "train_vars = df_drop.loc[:, df_drop.columns != 'Соотношение матрица-наполнитель']\n",
        "x_train, x_test, y_train, y_test = train_test_split(train_vars, \n",
        "target_var, test_size=0.3, random_state=42)"
      ]
    },
    {
      "cell_type": "code",
      "execution_count": null,
      "metadata": {
        "id": "YWXy_W_4w6lN"
      },
      "outputs": [],
      "source": [
        "Нормализация"
      ]
    },
    {
      "cell_type": "code",
      "execution_count": null,
      "metadata": {
        "id": "nBqJDcWaw6lO"
      },
      "outputs": [],
      "source": [
        "x_train_norm = tf.keras.layers.Normalization(axis=-1)\n",
        "x_train_norm.adapt(np.array(x_train))"
      ]
    },
    {
      "cell_type": "code",
      "execution_count": null,
      "metadata": {
        "id": "kFdB_Z_Aw6lO"
      },
      "outputs": [],
      "source": [
        "Cлои и конфиг нейросети"
      ]
    },
    {
      "cell_type": "code",
      "execution_count": null,
      "metadata": {
        "id": "NYp2Jrmrw6lP"
      },
      "outputs": [],
      "source": [
        "model = tf.keras.Sequential([x_train_norm, layers.Dense(128, activation='relu'), \n",
        "                                                 layers.Dense(128, activation='relu'),                                                  \n",
        "                                                 layers.Dense(128, activation='relu'),\n",
        "                                                 layers.Dense(64, activation='relu'),\n",
        "                                                 layers.Dense(32, activation='relu'),\n",
        "                                                 layers.Dense(16, activation='relu'),\n",
        "                                                 layers.Dense(1)\n",
        "                                                ])\n",
        "model.compile(optimizer=tf.keras.optimizers.Adam(0.001), \n",
        "loss='mean_squared_error') \n",
        "model.summary()\n",
        "model_hist = model.fit(x_train, y_train, epochs=100, verbose=1, \n",
        "validation_split = 0.2)"
      ]
    },
    {
      "cell_type": "code",
      "execution_count": null,
      "metadata": {
        "id": "QUjN9Etww6lQ"
      },
      "outputs": [],
      "source": [
        "Потери"
      ]
    },
    {
      "cell_type": "code",
      "execution_count": null,
      "metadata": {
        "id": "ykJUz007w6lQ"
      },
      "outputs": [],
      "source": [
        "model_hist.history"
      ]
    },
    {
      "cell_type": "code",
      "execution_count": null,
      "metadata": {
        "id": "fFZaTu_Uw6lR"
      },
      "outputs": [],
      "source": [
        "Визуализация потерь на тренировочной и тестовой модели"
      ]
    },
    {
      "cell_type": "code",
      "execution_count": null,
      "metadata": {
        "id": "OvsJOkp4w6lR"
      },
      "outputs": [],
      "source": [
        "def model_loss_plot(model_hist):\n",
        "    plt.figure(figsize=(17,5))\n",
        "    plt.plot(model_hist.history['loss'])\n",
        "    plt.plot(model_hist.history['val_loss'])\n",
        "    plt.title('График потерь')\n",
        "    plt.ylabel('MSE')\n",
        "    plt.xlabel('Эпоха')\n",
        "    plt.legend(['loss', 'val_loss'], loc='best')\n",
        "    plt.show()\n",
        "model_loss_plot(model_hist)"
      ]
    },
    {
      "cell_type": "code",
      "execution_count": null,
      "metadata": {
        "id": "zFB29t6hw6lS"
      },
      "outputs": [],
      "source": [
        "Визуализация"
      ]
    },
    {
      "cell_type": "code",
      "execution_count": null,
      "metadata": {
        "id": "0VmoUFKSw6lS"
      },
      "outputs": [],
      "source": [
        "actual_and_predicted_plot(y_test.values, model.predict(x_test.values),'Cоотношение матрица/наполнитель', 'Keras_mlpr_model')"
      ]
    },
    {
      "cell_type": "markdown",
      "metadata": {
        "id": "uwTVBWAEw6lT"
      },
      "source": [
        "Оценка MSE"
      ]
    },
    {
      "cell_type": "code",
      "execution_count": null,
      "metadata": {
        "id": "3RuNPyh1w6lT"
      },
      "outputs": [],
      "source": [
        "model.evaluate(x_test, y_test, verbose=1)"
      ]
    },
    {
      "cell_type": "markdown",
      "metadata": {
        "id": "bJ73PPKLw6lT"
      },
      "source": [
        "Датасет с ошибками модели"
      ]
    },
    {
      "cell_type": "code",
      "execution_count": null,
      "metadata": {
        "id": "IhUvuzImw6lU"
      },
      "outputs": [],
      "source": [
        "MSE = mean_squared_error(y_test, model.predict(x_test.values))\n",
        "R2 = r2_score(y_test, model.predict(x_test.values))\n",
        "keras_mlpr_model_errors = \n",
        "pd.DataFrame({'model_name':'Keras_mlpr_model',\\\n",
        "                                    'target_var':['Соотношение матрица/наполнитель'],\\\n",
        "                                    'MSE':[MSE],\\\n",
        "                                    'R2':[R2]})\n",
        "errors_df = pd.concat([errors_df, keras_mlpr_model_errors], ignore_index=True)\n",
        "errors_df"
      ]
    }
  ],
  "metadata": {
    "kernelspec": {
      "display_name": "Python 3",
      "language": "python",
      "name": "python3"
    },
    "language_info": {
      "codemirror_mode": {
        "name": "ipython",
        "version": 3
      },
      "file_extension": ".py",
      "mimetype": "text/x-python",
      "name": "python",
      "nbconvert_exporter": "python",
      "pygments_lexer": "ipython3",
      "version": "3.8.5"
    },
    "colab": {
      "provenance": [],
      "include_colab_link": true
    }
  },
  "nbformat": 4,
  "nbformat_minor": 0
}